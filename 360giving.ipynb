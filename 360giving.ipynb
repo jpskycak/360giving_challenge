{
  "nbformat": 4,
  "nbformat_minor": 0,
  "metadata": {
    "colab": {
      "name": "360giving.ipynb",
      "version": "0.3.2",
      "provenance": [],
      "collapsed_sections": []
    }
  },
  "cells": [
    {
      "cell_type": "markdown",
      "metadata": {
        "id": "view-in-github",
        "colab_type": "text"
      },
      "source": [
        "[View in Colaboratory](https://colab.research.google.com/github/jpskycak/360Giving_challenge/blob/master/360giving.ipynb)"
      ]
    },
    {
      "metadata": {
        "id": "kM3qfbx1uOO3",
        "colab_type": "text"
      },
      "cell_type": "markdown",
      "source": [
        "This notebook details my analysis for the [360Giving challenge](https://challenge.threesixtygiving.org/). The goal is to identify\n",
        "\n",
        "1) who has funded what themes throughout the years, and\n",
        "\n",
        "2) for user-led organizations: who funds them, in what thematic area, how much funding to they receive and what type of organization are they (e.g. CIC, charity, co-operative, community group)?"
      ]
    },
    {
      "metadata": {
        "id": "kE5K39SPuKpl",
        "colab_type": "code",
        "colab": {
          "base_uri": "https://localhost:8080/",
          "height": 70
        },
        "outputId": "0f565516-3d15-4647-85c4-c6685f24ca12"
      },
      "cell_type": "code",
      "source": [
        "!curl http://grantnav.threesixtygiving.org/api/grants.csv > grants.csv"
      ],
      "execution_count": 2,
      "outputs": [
        {
          "output_type": "stream",
          "text": [
            "  % Total    % Received % Xferd  Average Speed   Time    Time     Time  Current\r\n",
            "                                 Dload  Upload   Total   Spent    Left  Speed\n",
            "100  237M    0  237M    0     0  1154k      0 --:--:--  0:03:31 --:--:--  909k\n"
          ],
          "name": "stdout"
        }
      ]
    },
    {
      "metadata": {
        "id": "4Owc0v7Su8TI",
        "colab_type": "text"
      },
      "cell_type": "markdown",
      "source": [
        "I first organized the data, picking out columns that seemed informative and renaming them in a way that made sense to me."
      ]
    },
    {
      "metadata": {
        "id": "1X_mR2D4vQPF",
        "colab_type": "code",
        "colab": {
          "base_uri": "https://localhost:8080/",
          "height": 72
        },
        "outputId": "44c182c8-e644-415f-a695-fdeccce6d991"
      },
      "cell_type": "code",
      "source": [
        "import pandas as pd\n",
        "df = pd.read_csv('grants.csv')\n",
        "\n",
        "renaming = {'grant': [('Title','title'),\n",
        "                      ('Description','description'),\n",
        "                      ('Amount Applied For','request'),\n",
        "                      ('Amount Awarded','award'),\n",
        "                      ('Award Date','award_date'),\n",
        "                      ('Planned Dates:Duration (months)','duration_months'),\n",
        "                     ('Grant Programme:Title','type')],\n",
        "           'recipient': [('Recipient Org:Name','name'),\n",
        "                         ('Recipient Org:Charity Number','charity_number'),\n",
        "                         ('Recipient Org:Company Number','company_number'),\n",
        "                        ('Recipient Org:Postal Code','zip'),\n",
        "                         ('Recipient Region','region'),\n",
        "                         ('Recipient District','district'),\n",
        "                         ('Recipient Ward','ward'),\n",
        "                        ('Beneficiary Location:0:Country Code','country'),\n",
        "                        ('Beneficiary Location:1:Name','location_highlevel'),\n",
        "                        ('Beneficiary Location:2:Name','location_lowlevel')],\n",
        "           'funder':[('Funding Org:Name','name'),\n",
        "                    ('Funding Org:Postal Code','zip')]}\n",
        "\n",
        "oldname_newname = {}\n",
        "for k,vlist in renaming.iteritems():\n",
        "  for vtuple in vlist:\n",
        "    oldname = vtuple[0]\n",
        "    newname = '_'.join([k,vtuple[1]])\n",
        "    oldname_newname[oldname]=newname\n",
        "    \n",
        "df = df[oldname_newname.keys()].rename(index=str, columns=oldname_newname)"
      ],
      "execution_count": 1,
      "outputs": [
        {
          "output_type": "stream",
          "text": [
            "/usr/local/lib/python2.7/dist-packages/IPython/core/interactiveshell.py:2718: DtypeWarning: Columns (8,10,13,19,20,21,23,24,25,31,34,35,36,37,38,39,40,41,42,43,44,45,46,47,49,50,51,53,54,55,57,58,59,61,62,63,65,66,67) have mixed types. Specify dtype option on import or set low_memory=False.\n",
            "  interactivity=interactivity, compiler=compiler, result=result)\n"
          ],
          "name": "stderr"
        }
      ]
    },
    {
      "metadata": {
        "id": "ipP7fn4Q0m9r",
        "colab_type": "code",
        "colab": {
          "base_uri": "https://localhost:8080/",
          "height": 384
        },
        "outputId": "e27d7acd-631e-4f3f-adb8-0760df6171c3"
      },
      "cell_type": "code",
      "source": [
        "df.head()"
      ],
      "execution_count": 2,
      "outputs": [
        {
          "output_type": "execute_result",
          "data": {
            "text/html": [
              "<div>\n",
              "<style scoped>\n",
              "    .dataframe tbody tr th:only-of-type {\n",
              "        vertical-align: middle;\n",
              "    }\n",
              "\n",
              "    .dataframe tbody tr th {\n",
              "        vertical-align: top;\n",
              "    }\n",
              "\n",
              "    .dataframe thead th {\n",
              "        text-align: right;\n",
              "    }\n",
              "</style>\n",
              "<table border=\"1\" class=\"dataframe\">\n",
              "  <thead>\n",
              "    <tr style=\"text-align: right;\">\n",
              "      <th></th>\n",
              "      <th>grant_type</th>\n",
              "      <th>recipient_location_lowlevel</th>\n",
              "      <th>recipient_location_highlevel</th>\n",
              "      <th>recipient_region</th>\n",
              "      <th>grant_request</th>\n",
              "      <th>recipient_name</th>\n",
              "      <th>recipient_ward</th>\n",
              "      <th>funder_name</th>\n",
              "      <th>grant_duration_months</th>\n",
              "      <th>grant_description</th>\n",
              "      <th>grant_award</th>\n",
              "      <th>recipient_charity_number</th>\n",
              "      <th>grant_award_date</th>\n",
              "      <th>grant_title</th>\n",
              "      <th>recipient_zip</th>\n",
              "      <th>recipient_district</th>\n",
              "      <th>funder_zip</th>\n",
              "      <th>recipient_country</th>\n",
              "      <th>recipient_company_number</th>\n",
              "    </tr>\n",
              "  </thead>\n",
              "  <tbody>\n",
              "    <tr>\n",
              "      <th>0</th>\n",
              "      <td>Small Grants</td>\n",
              "      <td>Spelthorne</td>\n",
              "      <td>Spelthorne</td>\n",
              "      <td>South East Coast</td>\n",
              "      <td>NaN</td>\n",
              "      <td>Desborough Sailing Club</td>\n",
              "      <td>Shepperton Town Ward</td>\n",
              "      <td>Sport England</td>\n",
              "      <td>3.0</td>\n",
              "      <td>Funding under Sport England's Small Grants fun...</td>\n",
              "      <td>9686.0</td>\n",
              "      <td>NaN</td>\n",
              "      <td>2009-09-14T00:00:00+00:00</td>\n",
              "      <td>Members Boat Scheme</td>\n",
              "      <td>TW17 9LQ</td>\n",
              "      <td>Spelthorne District</td>\n",
              "      <td>NaN</td>\n",
              "      <td>GB</td>\n",
              "      <td>05099435</td>\n",
              "    </tr>\n",
              "    <tr>\n",
              "      <th>1</th>\n",
              "      <td>Small Grants</td>\n",
              "      <td>South Lakeland</td>\n",
              "      <td>Westmorland and Lonsdale</td>\n",
              "      <td>North West</td>\n",
              "      <td>NaN</td>\n",
              "      <td>The Brewery</td>\n",
              "      <td>Kendal Highgate Ward</td>\n",
              "      <td>Sport England</td>\n",
              "      <td>4.0</td>\n",
              "      <td>Funding under Sport England's Small Grants fun...</td>\n",
              "      <td>7480.0</td>\n",
              "      <td>1086789</td>\n",
              "      <td>2009-09-14T00:00:00+00:00</td>\n",
              "      <td>Boyz Sport Moves</td>\n",
              "      <td>LA9 4HE</td>\n",
              "      <td>South Lakeland District</td>\n",
              "      <td>NaN</td>\n",
              "      <td>GB</td>\n",
              "      <td>03927101</td>\n",
              "    </tr>\n",
              "    <tr>\n",
              "      <th>2</th>\n",
              "      <td>Small Grants</td>\n",
              "      <td>North Hertfordshire</td>\n",
              "      <td>North East Hertfordshire</td>\n",
              "      <td>East of England</td>\n",
              "      <td>NaN</td>\n",
              "      <td>Richard's Trampoline Club</td>\n",
              "      <td>Barton-le-Clay Ward</td>\n",
              "      <td>Sport England</td>\n",
              "      <td>12.0</td>\n",
              "      <td>Funding under Sport England's Small Grants fun...</td>\n",
              "      <td>7690.0</td>\n",
              "      <td>NaN</td>\n",
              "      <td>2009-09-14T00:00:00+00:00</td>\n",
              "      <td>Growth, Sustain and Excel</td>\n",
              "      <td>MK45 4NF</td>\n",
              "      <td>Central Bedfordshire</td>\n",
              "      <td>NaN</td>\n",
              "      <td>GB</td>\n",
              "      <td>NaN</td>\n",
              "    </tr>\n",
              "    <tr>\n",
              "      <th>3</th>\n",
              "      <td>Small Grants</td>\n",
              "      <td>Chichester</td>\n",
              "      <td>Chichester</td>\n",
              "      <td>South East Coast</td>\n",
              "      <td>NaN</td>\n",
              "      <td>Chichester &amp; Fishbourne Croquet Club</td>\n",
              "      <td>Fishbourne Ward</td>\n",
              "      <td>Sport England</td>\n",
              "      <td>1.0</td>\n",
              "      <td>Funding under Sport England's Small Grants fun...</td>\n",
              "      <td>6118.0</td>\n",
              "      <td>NaN</td>\n",
              "      <td>2009-09-14T00:00:00+00:00</td>\n",
              "      <td>New Lawn Mower</td>\n",
              "      <td>PO18 8BL</td>\n",
              "      <td>Chichester District</td>\n",
              "      <td>NaN</td>\n",
              "      <td>GB</td>\n",
              "      <td>NaN</td>\n",
              "    </tr>\n",
              "    <tr>\n",
              "      <th>4</th>\n",
              "      <td>Small Grants</td>\n",
              "      <td>Sedgemoor</td>\n",
              "      <td>Wells</td>\n",
              "      <td>South West</td>\n",
              "      <td>NaN</td>\n",
              "      <td>Berrow Short Mat Bowls Club</td>\n",
              "      <td>Berrow Ward</td>\n",
              "      <td>Sport England</td>\n",
              "      <td>12.0</td>\n",
              "      <td>Funding under Sport England's Small Grants fun...</td>\n",
              "      <td>1600.0</td>\n",
              "      <td>NaN</td>\n",
              "      <td>2009-09-14T00:00:00+00:00</td>\n",
              "      <td>Purchase of Bowls Mats</td>\n",
              "      <td>TA8 2QU</td>\n",
              "      <td>Sedgemoor District</td>\n",
              "      <td>NaN</td>\n",
              "      <td>GB</td>\n",
              "      <td>NaN</td>\n",
              "    </tr>\n",
              "  </tbody>\n",
              "</table>\n",
              "</div>"
            ],
            "text/plain": [
              "     grant_type recipient_location_lowlevel recipient_location_highlevel  \\\n",
              "0  Small Grants                  Spelthorne                   Spelthorne   \n",
              "1  Small Grants              South Lakeland     Westmorland and Lonsdale   \n",
              "2  Small Grants         North Hertfordshire     North East Hertfordshire   \n",
              "3  Small Grants                  Chichester                   Chichester   \n",
              "4  Small Grants                   Sedgemoor                        Wells   \n",
              "\n",
              "   recipient_region  grant_request                        recipient_name  \\\n",
              "0  South East Coast            NaN               Desborough Sailing Club   \n",
              "1        North West            NaN                           The Brewery   \n",
              "2   East of England            NaN             Richard's Trampoline Club   \n",
              "3  South East Coast            NaN  Chichester & Fishbourne Croquet Club   \n",
              "4        South West            NaN           Berrow Short Mat Bowls Club   \n",
              "\n",
              "         recipient_ward    funder_name  grant_duration_months  \\\n",
              "0  Shepperton Town Ward  Sport England                    3.0   \n",
              "1  Kendal Highgate Ward  Sport England                    4.0   \n",
              "2   Barton-le-Clay Ward  Sport England                   12.0   \n",
              "3       Fishbourne Ward  Sport England                    1.0   \n",
              "4           Berrow Ward  Sport England                   12.0   \n",
              "\n",
              "                                   grant_description  grant_award  \\\n",
              "0  Funding under Sport England's Small Grants fun...       9686.0   \n",
              "1  Funding under Sport England's Small Grants fun...       7480.0   \n",
              "2  Funding under Sport England's Small Grants fun...       7690.0   \n",
              "3  Funding under Sport England's Small Grants fun...       6118.0   \n",
              "4  Funding under Sport England's Small Grants fun...       1600.0   \n",
              "\n",
              "  recipient_charity_number           grant_award_date  \\\n",
              "0                      NaN  2009-09-14T00:00:00+00:00   \n",
              "1                  1086789  2009-09-14T00:00:00+00:00   \n",
              "2                      NaN  2009-09-14T00:00:00+00:00   \n",
              "3                      NaN  2009-09-14T00:00:00+00:00   \n",
              "4                      NaN  2009-09-14T00:00:00+00:00   \n",
              "\n",
              "                 grant_title recipient_zip       recipient_district  \\\n",
              "0        Members Boat Scheme      TW17 9LQ      Spelthorne District   \n",
              "1         Boyz Sport Moves         LA9 4HE  South Lakeland District   \n",
              "2  Growth, Sustain and Excel      MK45 4NF     Central Bedfordshire   \n",
              "3             New Lawn Mower      PO18 8BL      Chichester District   \n",
              "4     Purchase of Bowls Mats       TA8 2QU       Sedgemoor District   \n",
              "\n",
              "  funder_zip recipient_country recipient_company_number  \n",
              "0        NaN                GB                 05099435  \n",
              "1        NaN                GB                 03927101  \n",
              "2        NaN                GB                      NaN  \n",
              "3        NaN                GB                      NaN  \n",
              "4        NaN                GB                      NaN  "
            ]
          },
          "metadata": {
            "tags": []
          },
          "execution_count": 2
        }
      ]
    },
    {
      "metadata": {
        "id": "01rL_Sg5vWlF",
        "colab_type": "text"
      },
      "cell_type": "markdown",
      "source": [
        "Then, I started to think about what the visualization should look like. I decided on a Strayer diagram mapping funders to themes, with thickness representing the total grant awards.\n",
        "\n",
        "I figured that the recipient name, grant type, grant tile, and grant description could help me categorize the grants into themes. Since they were extremely high-dimensional, I decided to reduce their dimensionality first. I did this by clustering each of the columns individually using k-means on its tf-idf matrix.\n",
        "\n",
        "First, I created a tf-idf matrix for each column."
      ]
    },
    {
      "metadata": {
        "id": "vwmEmTaLuAGJ",
        "colab_type": "code",
        "colab": {
          "base_uri": "https://localhost:8080/",
          "height": 941
        },
        "outputId": "620e39db-0274-4766-e9fe-8243ad31144a"
      },
      "cell_type": "code",
      "source": [
        "theme_cols = ['recipient_name','grant_type','grant_title','grant_description']\n",
        "theme_df = df[theme_cols]\n",
        "\n",
        "import re\n",
        "import nltk\n",
        "#nltk.download('words')\n",
        "#nltk.download('stopwords')\n",
        "from nltk.corpus import words\n",
        "from nltk.corpus import stopwords\n",
        "\n",
        "%time permissible_words = dict.fromkeys([w for w in words.words() if w not in stopwords.words('english')], None)\n",
        "\n",
        "def is_permissible(word):\n",
        "    try:\n",
        "        x = permissible_words[word]\n",
        "        return True\n",
        "    except KeyError:\n",
        "        return False\n",
        "\n",
        "def tokenize(s):\n",
        "  try:\n",
        "    tokens = s.lower().split()\n",
        "    filtered_tokens = []\n",
        "  \n",
        "    for t in tokens:\n",
        "      if len(t) >= 3: # quick filter\n",
        "        if is_permissible(t):\n",
        "          filtered_tokens.append(t)\n",
        "            \n",
        "    return filtered_tokens\n",
        "  except:\n",
        "    return []\n",
        "\n",
        "for c in theme_df.columns:\n",
        "  print 'tokenizing '+c+'...'\n",
        "  %time theme_df[c+'_tokens'] = theme_df[c].apply(tokenize)\n",
        "  %time theme_df[c+'_tokens_joined'] = theme_df[c+'_tokens'].apply(lambda x: ' '.join(x))\n",
        "  print ''\n",
        "theme_df.to_csv('theme_df.csv')\n",
        "  \n",
        "from sklearn.feature_extraction.text import TfidfVectorizer\n",
        "from sklearn.metrics.pairwise import cosine_similarity\n",
        "\n",
        "tfidf_vectorizers = {c:TfidfVectorizer(max_df=0.8,min_df=0,stop_words='english',use_idf=True,tokenizer=tokenize, ngram_range=(1,3)) for c in theme_cols}\n",
        "tfidf_matrices = {}\n",
        "for c in theme_cols:\n",
        "  print 'vectorizing '+c+'...'\n",
        "  %time tfidf_matrices[c] = tfidf_vectorizers[c].fit_transform(theme_df[c+'_tokens_joined'])\n",
        "  print 'shape:',tfidf_matrices[c].shape\n",
        "  print ''"
      ],
      "execution_count": 3,
      "outputs": [
        {
          "output_type": "stream",
          "text": [
            "CPU times: user 28.9 s, sys: 4.7 s, total: 33.6 s\n",
            "Wall time: 33.7 s\n",
            "tokenizing recipient_name...\n"
          ],
          "name": "stdout"
        },
        {
          "output_type": "stream",
          "text": [
            "/usr/local/lib/python2.7/dist-packages/ipykernel_launcher.py:1: SettingWithCopyWarning: \n",
            "A value is trying to be set on a copy of a slice from a DataFrame.\n",
            "Try using .loc[row_indexer,col_indexer] = value instead\n",
            "\n",
            "See the caveats in the documentation: http://pandas.pydata.org/pandas-docs/stable/indexing.html#indexing-view-versus-copy\n",
            "  \"\"\"Entry point for launching an IPython kernel.\n"
          ],
          "name": "stderr"
        },
        {
          "output_type": "stream",
          "text": [
            "CPU times: user 1.67 s, sys: 32 ms, total: 1.7 s\n",
            "Wall time: 1.71 s\n",
            "CPU times: user 181 ms, sys: 5 ms, total: 186 ms\n",
            "Wall time: 187 ms\n",
            "\n",
            "tokenizing grant_type...\n",
            "CPU times: user 1.26 s, sys: 36 ms, total: 1.3 s\n",
            "Wall time: 1.31 s\n",
            "CPU times: user 190 ms, sys: 0 ns, total: 190 ms\n",
            "Wall time: 190 ms\n",
            "\n",
            "tokenizing grant_title...\n",
            "CPU times: user 1.8 s, sys: 52 ms, total: 1.85 s\n",
            "Wall time: 1.86 s\n",
            "CPU times: user 248 ms, sys: 10 ms, total: 258 ms\n",
            "Wall time: 258 ms\n",
            "\n",
            "tokenizing grant_description...\n",
            "CPU times: user 11.2 s, sys: 243 ms, total: 11.4 s\n",
            "Wall time: 11.4 s\n",
            "CPU times: user 461 ms, sys: 20 ms, total: 481 ms\n",
            "Wall time: 482 ms\n",
            "\n",
            "vectorizing recipient_name...\n",
            "CPU times: user 3.12 s, sys: 30 ms, total: 3.16 s\n",
            "Wall time: 3.16 s\n",
            "shape: (283077, 101837)\n",
            "\n",
            "vectorizing grant_type...\n",
            "CPU times: user 1.28 s, sys: 11 ms, total: 1.29 s\n",
            "Wall time: 1.28 s\n",
            "shape: (283077, 1739)\n",
            "\n",
            "vectorizing grant_title...\n",
            "CPU times: user 5.54 s, sys: 67 ms, total: 5.61 s\n",
            "Wall time: 5.62 s\n",
            "shape: (283077, 322315)\n",
            "\n",
            "vectorizing grant_description...\n",
            "CPU times: user 59.5 s, sys: 838 ms, total: 1min\n",
            "Wall time: 1min\n",
            "shape: (283077, 3133454)\n",
            "\n"
          ],
          "name": "stdout"
        }
      ]
    },
    {
      "metadata": {
        "id": "-k6xfvsqzaEI",
        "colab_type": "code",
        "colab": {
          "base_uri": "https://localhost:8080/",
          "height": 384
        },
        "outputId": "27188af4-20ef-46c2-a31d-51c854e43ed1"
      },
      "cell_type": "code",
      "source": [
        "theme_df.head()"
      ],
      "execution_count": 4,
      "outputs": [
        {
          "output_type": "execute_result",
          "data": {
            "text/html": [
              "<div>\n",
              "<style scoped>\n",
              "    .dataframe tbody tr th:only-of-type {\n",
              "        vertical-align: middle;\n",
              "    }\n",
              "\n",
              "    .dataframe tbody tr th {\n",
              "        vertical-align: top;\n",
              "    }\n",
              "\n",
              "    .dataframe thead th {\n",
              "        text-align: right;\n",
              "    }\n",
              "</style>\n",
              "<table border=\"1\" class=\"dataframe\">\n",
              "  <thead>\n",
              "    <tr style=\"text-align: right;\">\n",
              "      <th></th>\n",
              "      <th>recipient_name</th>\n",
              "      <th>grant_type</th>\n",
              "      <th>grant_title</th>\n",
              "      <th>grant_description</th>\n",
              "      <th>recipient_name_tokens</th>\n",
              "      <th>recipient_name_tokens_joined</th>\n",
              "      <th>grant_type_tokens</th>\n",
              "      <th>grant_type_tokens_joined</th>\n",
              "      <th>grant_title_tokens</th>\n",
              "      <th>grant_title_tokens_joined</th>\n",
              "      <th>grant_description_tokens</th>\n",
              "      <th>grant_description_tokens_joined</th>\n",
              "    </tr>\n",
              "  </thead>\n",
              "  <tbody>\n",
              "    <tr>\n",
              "      <th>0</th>\n",
              "      <td>Desborough Sailing Club</td>\n",
              "      <td>Small Grants</td>\n",
              "      <td>Members Boat Scheme</td>\n",
              "      <td>Funding under Sport England's Small Grants fun...</td>\n",
              "      <td>[sailing, club]</td>\n",
              "      <td>sailing club</td>\n",
              "      <td>[small]</td>\n",
              "      <td>small</td>\n",
              "      <td>[boat, scheme]</td>\n",
              "      <td>boat scheme</td>\n",
              "      <td>[sport, small, revenue, project, titled, boat,...</td>\n",
              "      <td>sport small revenue project titled boat projec...</td>\n",
              "    </tr>\n",
              "    <tr>\n",
              "      <th>1</th>\n",
              "      <td>The Brewery</td>\n",
              "      <td>Small Grants</td>\n",
              "      <td>Boyz Sport Moves</td>\n",
              "      <td>Funding under Sport England's Small Grants fun...</td>\n",
              "      <td>[brewery]</td>\n",
              "      <td>brewery</td>\n",
              "      <td>[small]</td>\n",
              "      <td>small</td>\n",
              "      <td>[sport]</td>\n",
              "      <td>sport</td>\n",
              "      <td>[sport, small, revenue, project, titled, sport...</td>\n",
              "      <td>sport small revenue project titled sport proje...</td>\n",
              "    </tr>\n",
              "    <tr>\n",
              "      <th>2</th>\n",
              "      <td>Richard's Trampoline Club</td>\n",
              "      <td>Small Grants</td>\n",
              "      <td>Growth, Sustain and Excel</td>\n",
              "      <td>Funding under Sport England's Small Grants fun...</td>\n",
              "      <td>[trampoline, club]</td>\n",
              "      <td>trampoline club</td>\n",
              "      <td>[small]</td>\n",
              "      <td>small</td>\n",
              "      <td>[sustain, excel]</td>\n",
              "      <td>sustain excel</td>\n",
              "      <td>[sport, small, revenue, project, titled, susta...</td>\n",
              "      <td>sport small revenue project titled sustain pro...</td>\n",
              "    </tr>\n",
              "    <tr>\n",
              "      <th>3</th>\n",
              "      <td>Chichester &amp; Fishbourne Croquet Club</td>\n",
              "      <td>Small Grants</td>\n",
              "      <td>New Lawn Mower</td>\n",
              "      <td>Funding under Sport England's Small Grants fun...</td>\n",
              "      <td>[croquet, club]</td>\n",
              "      <td>croquet club</td>\n",
              "      <td>[small]</td>\n",
              "      <td>small</td>\n",
              "      <td>[new, lawn, mower]</td>\n",
              "      <td>new lawn mower</td>\n",
              "      <td>[sport, small, revenue, project, titled, lawn,...</td>\n",
              "      <td>sport small revenue project titled lawn projec...</td>\n",
              "    </tr>\n",
              "    <tr>\n",
              "      <th>4</th>\n",
              "      <td>Berrow Short Mat Bowls Club</td>\n",
              "      <td>Small Grants</td>\n",
              "      <td>Purchase of Bowls Mats</td>\n",
              "      <td>Funding under Sport England's Small Grants fun...</td>\n",
              "      <td>[short, mat, bowls, club]</td>\n",
              "      <td>short mat bowls club</td>\n",
              "      <td>[small]</td>\n",
              "      <td>small</td>\n",
              "      <td>[purchase, bowls]</td>\n",
              "      <td>purchase bowls</td>\n",
              "      <td>[sport, small, revenue, project, titled, bowls...</td>\n",
              "      <td>sport small revenue project titled bowls proje...</td>\n",
              "    </tr>\n",
              "  </tbody>\n",
              "</table>\n",
              "</div>"
            ],
            "text/plain": [
              "                         recipient_name    grant_type  \\\n",
              "0               Desborough Sailing Club  Small Grants   \n",
              "1                           The Brewery  Small Grants   \n",
              "2             Richard's Trampoline Club  Small Grants   \n",
              "3  Chichester & Fishbourne Croquet Club  Small Grants   \n",
              "4           Berrow Short Mat Bowls Club  Small Grants   \n",
              "\n",
              "                 grant_title  \\\n",
              "0        Members Boat Scheme   \n",
              "1         Boyz Sport Moves     \n",
              "2  Growth, Sustain and Excel   \n",
              "3             New Lawn Mower   \n",
              "4     Purchase of Bowls Mats   \n",
              "\n",
              "                                   grant_description  \\\n",
              "0  Funding under Sport England's Small Grants fun...   \n",
              "1  Funding under Sport England's Small Grants fun...   \n",
              "2  Funding under Sport England's Small Grants fun...   \n",
              "3  Funding under Sport England's Small Grants fun...   \n",
              "4  Funding under Sport England's Small Grants fun...   \n",
              "\n",
              "       recipient_name_tokens recipient_name_tokens_joined grant_type_tokens  \\\n",
              "0            [sailing, club]                 sailing club           [small]   \n",
              "1                  [brewery]                      brewery           [small]   \n",
              "2         [trampoline, club]              trampoline club           [small]   \n",
              "3            [croquet, club]                 croquet club           [small]   \n",
              "4  [short, mat, bowls, club]         short mat bowls club           [small]   \n",
              "\n",
              "  grant_type_tokens_joined  grant_title_tokens grant_title_tokens_joined  \\\n",
              "0                    small      [boat, scheme]               boat scheme   \n",
              "1                    small             [sport]                     sport   \n",
              "2                    small    [sustain, excel]             sustain excel   \n",
              "3                    small  [new, lawn, mower]            new lawn mower   \n",
              "4                    small   [purchase, bowls]            purchase bowls   \n",
              "\n",
              "                            grant_description_tokens  \\\n",
              "0  [sport, small, revenue, project, titled, boat,...   \n",
              "1  [sport, small, revenue, project, titled, sport...   \n",
              "2  [sport, small, revenue, project, titled, susta...   \n",
              "3  [sport, small, revenue, project, titled, lawn,...   \n",
              "4  [sport, small, revenue, project, titled, bowls...   \n",
              "\n",
              "                     grant_description_tokens_joined  \n",
              "0  sport small revenue project titled boat projec...  \n",
              "1  sport small revenue project titled sport proje...  \n",
              "2  sport small revenue project titled sustain pro...  \n",
              "3  sport small revenue project titled lawn projec...  \n",
              "4  sport small revenue project titled bowls proje...  "
            ]
          },
          "metadata": {
            "tags": []
          },
          "execution_count": 4
        }
      ]
    },
    {
      "metadata": {
        "id": "BfLT1SxEpLJK",
        "colab_type": "text"
      },
      "cell_type": "markdown",
      "source": [
        "Then, I performed k-means clustering within each tf-idf matrix. To choose the number of clusters, I used the elbow method for averages of repeated trials of 5, 10, 20, 40 clusters on a sample of the data."
      ]
    },
    {
      "metadata": {
        "id": "w-Ew-LmLsGfw",
        "colab_type": "code",
        "colab": {
          "base_uri": "https://localhost:8080/",
          "height": 372
        },
        "outputId": "7b9d0950-7c0f-4cc1-e297-fbe54dffe099"
      },
      "cell_type": "code",
      "source": [
        "from sklearn.cluster import KMeans\n",
        "import numpy as np\n",
        "from scipy.spatial.distance import cdist\n",
        "import random\n",
        "\n",
        "n_clusters = [5,10,20,40]\n",
        "n_repetitions = 10\n",
        "km_models = {c:[KMeans(n_clusters=n) for n in n_clusters] for c in theme_cols}\n",
        "km_distortions = {c:[] for c in theme_cols}\n",
        "\n",
        "def sample_indices(X,n):\n",
        "  shape = X.shape\n",
        "  return (random.sample(range(shape[0]), min(shape[0],n)), random.sample(range(shape[1]), min(shape[1],n)))\n",
        "\n",
        "def matrix_sample(X,sample):\n",
        "  return X[sample[0],:][:,sample[1]]\n",
        "\n",
        "def distortion(model, X, sample):\n",
        "  return sum(np.min(cdist(X.toarray(), model.cluster_centers_, 'euclidean'), axis=1)) / X.shape[0]\n",
        "\n",
        "for c,model_list in km_models.iteritems():\n",
        "  print 'computing for '+c+'...'\n",
        "  for i,model in enumerate(model_list):\n",
        "    print '   '+str(n_clusters[i])+' clusters...'\n",
        "    for _ in range(n_repetitions):\n",
        "      sample = sample_indices(tfidf_matrices[c],10000)\n",
        "      X = matrix_sample(tfidf_matrices[c],sample)\n",
        "      model.fit(X)\n",
        "      km_distortions[c].append(distortion(model,X,sample))"
      ],
      "execution_count": 11,
      "outputs": [
        {
          "output_type": "stream",
          "text": [
            "computing for grant_title...\n",
            "   5 clusters...\n",
            "   10 clusters...\n",
            "   20 clusters...\n",
            "   40 clusters...\n",
            "computing for grant_type...\n",
            "   5 clusters...\n",
            "   10 clusters...\n",
            "   20 clusters...\n",
            "   40 clusters...\n",
            "computing for grant_description...\n",
            "   5 clusters...\n",
            "   10 clusters...\n",
            "   20 clusters...\n",
            "   40 clusters...\n",
            "computing for recipient_name...\n",
            "   5 clusters...\n",
            "   10 clusters...\n",
            "   20 clusters...\n",
            "   40 clusters...\n"
          ],
          "name": "stdout"
        }
      ]
    },
    {
      "metadata": {
        "id": "-SemSjhSC15y",
        "colab_type": "code",
        "colab": {
          "base_uri": "https://localhost:8080/",
          "height": 378
        },
        "outputId": "b0e54a31-6484-4cca-f9c3-d86a185a2d9c"
      },
      "cell_type": "code",
      "source": [
        "import matplotlib.pyplot as plt\n",
        "import itertools\n",
        "\n",
        "def unnest(nested):\n",
        "  return [item for items in nested for item in items]\n",
        "\n",
        "distortion_df = pd.DataFrame(km_distortions,index=unnest([[n]*n_repetitions for n in n_clusters]))\n",
        "distortion_sums = distortion_df.groupby(by=distortion_df.index).sum()\n",
        "distortion_sums_normalized = distortion_sums/distortion_sums.transpose()[5]\n",
        "distortion_sums_normalized.plot(title='distortion vs number of clusters')\n",
        "plt.plot()"
      ],
      "execution_count": 35,
      "outputs": [
        {
          "output_type": "execute_result",
          "data": {
            "text/plain": [
              "[]"
            ]
          },
          "metadata": {
            "tags": []
          },
          "execution_count": 35
        },
        {
          "output_type": "display_data",
          "data": {
            "image/png": "[encoded data removed]",
            "text/plain": [
              "<matplotlib.figure.Figure at 0x7fe4e5c5c6d0>"
            ]
          },
          "metadata": {
            "tags": []
          }
        }
      ]
    },
    {
      "metadata": {
        "id": "rDIEN0oAWTgi",
        "colab_type": "text"
      },
      "cell_type": "markdown",
      "source": [
        "Grant description and recipient name had elbows at 10 clusters, while grant title and grant type had elbows at 20 clusters. I clustered over the entire dataset, using these parameters. (All columns finish in 5 minutes or less except grant description, which takes about an hour.)"
      ]
    },
    {
      "metadata": {
        "id": "ZXAPOkkMT6xY",
        "colab_type": "code",
        "colab": {
          "base_uri": "https://localhost:8080/",
          "height": 407
        },
        "outputId": "2b06cb60-f344-4950-fd81-431adc80d822"
      },
      "cell_type": "code",
      "source": [
        "n_clusters = {'grant_description':10, 'recipient_name':10, 'grant_title':20, 'grant_type':20}\n",
        "km_models = {c:KMeans(n_clusters=n_clusters[c]) for c in theme_cols}\n",
        "\n",
        "for c,model in km_models.iteritems():\n",
        "  print 'computing for '+c+'...'\n",
        "  %time model.fit(tfidf_matrices[c])\n",
        "  theme_df[c+'_cluster_number'] = model.labels_.tolist()\n",
        "  theme_df.to_csv('theme_df.csv')\n",
        "  print ''"
      ],
      "execution_count": 37,
      "outputs": [
        {
          "output_type": "stream",
          "text": [
            "computing for grant_title...\n",
            "CPU times: user 5min 32s, sys: 56 ms, total: 5min 32s\n",
            "Wall time: 5min 32s\n"
          ],
          "name": "stdout"
        },
        {
          "output_type": "stream",
          "text": [
            "/usr/local/lib/python2.7/dist-packages/ipykernel_launcher.py:7: SettingWithCopyWarning: \n",
            "A value is trying to be set on a copy of a slice from a DataFrame.\n",
            "Try using .loc[row_indexer,col_indexer] = value instead\n",
            "\n",
            "See the caveats in the documentation: http://pandas.pydata.org/pandas-docs/stable/indexing.html#indexing-view-versus-copy\n",
            "  import sys\n"
          ],
          "name": "stderr"
        },
        {
          "output_type": "stream",
          "text": [
            "\n",
            "computing for grant_type...\n",
            "CPU times: user 10.9 s, sys: 10 ms, total: 10.9 s\n",
            "Wall time: 10.9 s\n",
            "\n",
            "computing for grant_description...\n",
            "CPU times: user 1h 42s, sys: 278 ms, total: 1h 42s\n",
            "Wall time: 1h 43s\n",
            "\n",
            "computing for recipient_name...\n",
            "CPU times: user 1min 32s, sys: 22 ms, total: 1min 32s\n",
            "Wall time: 1min 32s\n",
            "\n"
          ],
          "name": "stdout"
        }
      ]
    },
    {
      "metadata": {
        "id": "NY5VIZ-LXwKI",
        "colab_type": "text"
      },
      "cell_type": "markdown",
      "source": [
        "Then, I inspected the clusters for key words, in order to assign semantic labelings to the clusters."
      ]
    },
    {
      "metadata": {
        "id": "SXWbN2O8YEfT",
        "colab_type": "code",
        "colab": {}
      },
      "cell_type": "code",
      "source": [
        "from collections import Counter\n",
        "def common_words(column,cluster_number):\n",
        "  booleans = (theme_df.[column+'_cluster_number']==cluster_number)\n",
        "  clustersize = booleans.sum()\n",
        "  sample = theme_df[booleans].sample(n=min(1000),clustersize)\n",
        "  wordcounts = pd.Series(Counter(sample[column+'_tokens'].sum()))\n",
        "  wordfreqs = wordcounts/wordcounts.sum()\n",
        "  wordfreqs = wordfreqs[wordfreqs>0.05].sort_values(ascending=False).apply(lambda x: np.round(x,2))\n",
        "  word_freq = [s.split() for s in str(wordfreqs).split('\\n')][:-1]\n",
        "  return ', '.join([pair[0]+' ('+pair[1]+')' for pair in word_freq])\n",
        "\n",
        "def example(column,cluster_number):\n",
        "  booleans = (theme_df.[column+'_cluster_number']==cluster_number)\n",
        "  all_examples = theme_df[booleans][column].unique()\n",
        "  return str(random.choice(all_examples))\n",
        "\n",
        "def readout(column):\n",
        "  for n in range(n_clusters[column]):\n",
        "    booleans = (theme_df.[column+'_cluster_number']==n)\n",
        "    clustersize = booleans.sum()\n",
        "    print 'Cluster'+str(n)+' (size '+str(clustersize)+')'\n",
        "    print 'Keywords | '+common_words(column,n)\n",
        "    for _ in range(5):\n",
        "      print '   '+example(column,n)\n",
        "    print ''"
      ],
      "execution_count": 0,
      "outputs": []
    },
    {
      "metadata": {
        "id": "56qmB8ucbY8F",
        "colab_type": "text"
      },
      "cell_type": "markdown",
      "source": [
        ""
      ]
    },
    {
      "metadata": {
        "id": "EGdLNvTJtydG",
        "colab_type": "code",
        "colab": {}
      },
      "cell_type": "code",
      "source": [
        "# funder --> grant type\n",
        "# https://datavizcatalogue.com/\n",
        "# https://plot.ly/~alishobeiri/1591/plotly-sankey-diagrams/#/\n",
        "grant_type_counts = df.grant_type.value_counts()\n",
        "grant_types = grant_type_counts[grant_type_counts >= 10]\n",
        "grant_types_filter = list(grant_types.index)\n",
        "\n",
        "grant_filter = ((df.grant_award >= 10000) | df.grant_type.apply(lambda x: x in grant_types_filter))\n",
        "df_grant_filter = df[grant_filter]\n",
        "viz_df = df_grant_filter.groupby(['funder_name','grant_type']).sum()['grant_award'].reset_index()"
      ],
      "execution_count": 0,
      "outputs": []
    },
    {
      "metadata": {
        "id": "hBNg2ZjvJeAO",
        "colab_type": "code",
        "colab": {}
      },
      "cell_type": "code",
      "source": [
        "funder_rankings = viz_df[['funder_name','grant_award']].groupby('funder_name').sum().sort_values('grant_award',ascending=False).reset_index().funder_name\n",
        "type_rankings = viz_df[['grant_type','grant_award']].groupby('grant_type').sum().sort_values('grant_award',ascending=False).reset_index().grant_type\n",
        "type_rankings.index += len(funder_rankings)\n",
        "rankings = funder_rankings.append(type_rankings)\n",
        "\n",
        "def nodenum(s):\n",
        "  return list(rankings.index[rankings==s])[0]\n",
        "\n",
        "import numpy as np\n",
        "viz_df['Source']=viz_df.funder_name.apply(nodenum)\n",
        "viz_df['Target'] = viz_df.grant_type.apply(nodenum)\n",
        "viz_df['Color']='#262C46'\n",
        "viz_df['Value']=viz_df['grant_award']#.apply(np.log10)"
      ],
      "execution_count": 0,
      "outputs": []
    },
    {
      "metadata": {
        "id": "Um2TOu8vgKw0",
        "colab_type": "code",
        "colab": {
          "base_uri": "https://localhost:8080/",
          "height": 2020
        },
        "outputId": "0a9a61e3-e789-4872-8a99-f582db636471"
      },
      "cell_type": "code",
      "source": [
        "# https://plot.ly/~alishobeiri/1591/plotly-sankey-diagrams/#/\n",
        "import plotly.plotly as py\n",
        "#py.sign_in('jpskycak','I6xndrZUDqf8sWKGmCIL')\n",
        "\n",
        "data_trace = dict(\n",
        "    type='sankey',\n",
        "    domain = dict(\n",
        "      x =  [0,1],\n",
        "      y =  [0,1]\n",
        "    ),\n",
        "    orientation = \"h\",\n",
        "    valueformat = \".0f\",\n",
        "    node = dict(\n",
        "      pad = 10,\n",
        "      thickness = 30,\n",
        "      line = dict(\n",
        "        color = \"black\",\n",
        "        width = 0.5\n",
        "      ),\n",
        "      label =  list(rankings),\n",
        "      color = viz_df['Color']\n",
        "    ),\n",
        "    link = dict(\n",
        "      source = viz_df['Source'],#.dropna(axis=0, how='any'),\n",
        "      target = viz_df['Target'],#.dropna(axis=0, how='any'),\n",
        "      value = viz_df['Value']#.dropna(axis=0, how='any'),\n",
        "  )\n",
        ")\n",
        "\n",
        "layout =  dict(\n",
        "    title = \"Grants over $10,000\\n(for Grant Types Having 10+ Grants)\",\n",
        "    height = 2000,\n",
        "    width = 950,\n",
        "    font = dict(\n",
        "      size = 10\n",
        "    ),    \n",
        ")\n",
        "\n",
        "\n",
        "fig = dict(data=[data_trace], layout=layout)\n",
        "py.iplot(fig, validate=False)"
      ],
      "execution_count": 39,
      "outputs": [
        {
          "output_type": "execute_result",
          "data": {
            "text/html": [
              "<iframe id=\"igraph\" scrolling=\"no\" style=\"border:none;\" seamless=\"seamless\" src=\"https://plot.ly/~jpskycak/58.embed\" height=\"2000px\" width=\"950px\"></iframe>"
            ],
            "text/plain": [
              "<plotly.tools.PlotlyDisplay object>"
            ]
          },
          "metadata": {
            "tags": []
          },
          "execution_count": 39
        }
      ]
    },
    {
      "metadata": {
        "id": "R1KCbxKTvCrw",
        "colab_type": "code",
        "colab": {
          "base_uri": "https://localhost:8080/",
          "height": 34
        },
        "outputId": "dd2d2313-c9d6-456e-d0cc-df5119f63f7e"
      },
      "cell_type": "code",
      "source": [
        "# todo: condense grant types into fewer categories, map recipients to industry\n",
        "#viz_df.grant_type.value_counts()\n",
        "len(grant_type_counts)"
      ],
      "execution_count": 42,
      "outputs": [
        {
          "output_type": "execute_result",
          "data": {
            "text/plain": [
              "1045"
            ]
          },
          "metadata": {
            "tags": []
          },
          "execution_count": 42
        }
      ]
    },
    {
      "metadata": {
        "id": "EmiRpxrP0nLZ",
        "colab_type": "code",
        "colab": {
          "base_uri": "https://localhost:8080/",
          "height": 384
        },
        "outputId": "9e610b24-ffa2-4343-fecb-e9183e524b16"
      },
      "cell_type": "code",
      "source": [
        "df=df[['funder_name','recipient_name','grant_award','grant_type','grant_title','grant_description']]"
      ],
      "execution_count": 43,
      "outputs": [
        {
          "output_type": "execute_result",
          "data": {
            "text/html": [
              "<div>\n",
              "<style scoped>\n",
              "    .dataframe tbody tr th:only-of-type {\n",
              "        vertical-align: middle;\n",
              "    }\n",
              "\n",
              "    .dataframe tbody tr th {\n",
              "        vertical-align: top;\n",
              "    }\n",
              "\n",
              "    .dataframe thead th {\n",
              "        text-align: right;\n",
              "    }\n",
              "</style>\n",
              "<table border=\"1\" class=\"dataframe\">\n",
              "  <thead>\n",
              "    <tr style=\"text-align: right;\">\n",
              "      <th></th>\n",
              "      <th>grant_type</th>\n",
              "      <th>recipient_location_lowlevel</th>\n",
              "      <th>recipient_location_highlevel</th>\n",
              "      <th>recipient_region</th>\n",
              "      <th>grant_request</th>\n",
              "      <th>recipient_name</th>\n",
              "      <th>recipient_ward</th>\n",
              "      <th>funder_name</th>\n",
              "      <th>grant_duration_months</th>\n",
              "      <th>grant_description</th>\n",
              "      <th>grant_award</th>\n",
              "      <th>recipient_charity_number</th>\n",
              "      <th>grant_award_date</th>\n",
              "      <th>grant_title</th>\n",
              "      <th>recipient_zip</th>\n",
              "      <th>recipient_district</th>\n",
              "      <th>funder_zip</th>\n",
              "      <th>recipient_country</th>\n",
              "      <th>recipient_company_number</th>\n",
              "    </tr>\n",
              "  </thead>\n",
              "  <tbody>\n",
              "    <tr>\n",
              "      <th>0</th>\n",
              "      <td>Small Grants</td>\n",
              "      <td>Spelthorne</td>\n",
              "      <td>Spelthorne</td>\n",
              "      <td>South East Coast</td>\n",
              "      <td>NaN</td>\n",
              "      <td>Desborough Sailing Club</td>\n",
              "      <td>Shepperton Town Ward</td>\n",
              "      <td>Sport England</td>\n",
              "      <td>3.0</td>\n",
              "      <td>Funding under Sport England's Small Grants fun...</td>\n",
              "      <td>9686.0</td>\n",
              "      <td>NaN</td>\n",
              "      <td>2009-09-14T00:00:00+00:00</td>\n",
              "      <td>Members Boat Scheme</td>\n",
              "      <td>TW17 9LQ</td>\n",
              "      <td>Spelthorne District</td>\n",
              "      <td>NaN</td>\n",
              "      <td>GB</td>\n",
              "      <td>05099435</td>\n",
              "    </tr>\n",
              "    <tr>\n",
              "      <th>1</th>\n",
              "      <td>Small Grants</td>\n",
              "      <td>South Lakeland</td>\n",
              "      <td>Westmorland and Lonsdale</td>\n",
              "      <td>North West</td>\n",
              "      <td>NaN</td>\n",
              "      <td>The Brewery</td>\n",
              "      <td>Kendal Highgate Ward</td>\n",
              "      <td>Sport England</td>\n",
              "      <td>4.0</td>\n",
              "      <td>Funding under Sport England's Small Grants fun...</td>\n",
              "      <td>7480.0</td>\n",
              "      <td>1086789</td>\n",
              "      <td>2009-09-14T00:00:00+00:00</td>\n",
              "      <td>Boyz Sport Moves</td>\n",
              "      <td>LA9 4HE</td>\n",
              "      <td>South Lakeland District</td>\n",
              "      <td>NaN</td>\n",
              "      <td>GB</td>\n",
              "      <td>03927101</td>\n",
              "    </tr>\n",
              "    <tr>\n",
              "      <th>2</th>\n",
              "      <td>Small Grants</td>\n",
              "      <td>North Hertfordshire</td>\n",
              "      <td>North East Hertfordshire</td>\n",
              "      <td>East of England</td>\n",
              "      <td>NaN</td>\n",
              "      <td>Richard's Trampoline Club</td>\n",
              "      <td>Barton-le-Clay Ward</td>\n",
              "      <td>Sport England</td>\n",
              "      <td>12.0</td>\n",
              "      <td>Funding under Sport England's Small Grants fun...</td>\n",
              "      <td>7690.0</td>\n",
              "      <td>NaN</td>\n",
              "      <td>2009-09-14T00:00:00+00:00</td>\n",
              "      <td>Growth, Sustain and Excel</td>\n",
              "      <td>MK45 4NF</td>\n",
              "      <td>Central Bedfordshire</td>\n",
              "      <td>NaN</td>\n",
              "      <td>GB</td>\n",
              "      <td>NaN</td>\n",
              "    </tr>\n",
              "    <tr>\n",
              "      <th>3</th>\n",
              "      <td>Small Grants</td>\n",
              "      <td>Chichester</td>\n",
              "      <td>Chichester</td>\n",
              "      <td>South East Coast</td>\n",
              "      <td>NaN</td>\n",
              "      <td>Chichester &amp; Fishbourne Croquet Club</td>\n",
              "      <td>Fishbourne Ward</td>\n",
              "      <td>Sport England</td>\n",
              "      <td>1.0</td>\n",
              "      <td>Funding under Sport England's Small Grants fun...</td>\n",
              "      <td>6118.0</td>\n",
              "      <td>NaN</td>\n",
              "      <td>2009-09-14T00:00:00+00:00</td>\n",
              "      <td>New Lawn Mower</td>\n",
              "      <td>PO18 8BL</td>\n",
              "      <td>Chichester District</td>\n",
              "      <td>NaN</td>\n",
              "      <td>GB</td>\n",
              "      <td>NaN</td>\n",
              "    </tr>\n",
              "    <tr>\n",
              "      <th>4</th>\n",
              "      <td>Small Grants</td>\n",
              "      <td>Sedgemoor</td>\n",
              "      <td>Wells</td>\n",
              "      <td>South West</td>\n",
              "      <td>NaN</td>\n",
              "      <td>Berrow Short Mat Bowls Club</td>\n",
              "      <td>Berrow Ward</td>\n",
              "      <td>Sport England</td>\n",
              "      <td>12.0</td>\n",
              "      <td>Funding under Sport England's Small Grants fun...</td>\n",
              "      <td>1600.0</td>\n",
              "      <td>NaN</td>\n",
              "      <td>2009-09-14T00:00:00+00:00</td>\n",
              "      <td>Purchase of Bowls Mats</td>\n",
              "      <td>TA8 2QU</td>\n",
              "      <td>Sedgemoor District</td>\n",
              "      <td>NaN</td>\n",
              "      <td>GB</td>\n",
              "      <td>NaN</td>\n",
              "    </tr>\n",
              "  </tbody>\n",
              "</table>\n",
              "</div>"
            ],
            "text/plain": [
              "     grant_type recipient_location_lowlevel recipient_location_highlevel  \\\n",
              "0  Small Grants                  Spelthorne                   Spelthorne   \n",
              "1  Small Grants              South Lakeland     Westmorland and Lonsdale   \n",
              "2  Small Grants         North Hertfordshire     North East Hertfordshire   \n",
              "3  Small Grants                  Chichester                   Chichester   \n",
              "4  Small Grants                   Sedgemoor                        Wells   \n",
              "\n",
              "   recipient_region  grant_request                        recipient_name  \\\n",
              "0  South East Coast            NaN               Desborough Sailing Club   \n",
              "1        North West            NaN                           The Brewery   \n",
              "2   East of England            NaN             Richard's Trampoline Club   \n",
              "3  South East Coast            NaN  Chichester & Fishbourne Croquet Club   \n",
              "4        South West            NaN           Berrow Short Mat Bowls Club   \n",
              "\n",
              "         recipient_ward    funder_name  grant_duration_months  \\\n",
              "0  Shepperton Town Ward  Sport England                    3.0   \n",
              "1  Kendal Highgate Ward  Sport England                    4.0   \n",
              "2   Barton-le-Clay Ward  Sport England                   12.0   \n",
              "3       Fishbourne Ward  Sport England                    1.0   \n",
              "4           Berrow Ward  Sport England                   12.0   \n",
              "\n",
              "                                   grant_description  grant_award  \\\n",
              "0  Funding under Sport England's Small Grants fun...       9686.0   \n",
              "1  Funding under Sport England's Small Grants fun...       7480.0   \n",
              "2  Funding under Sport England's Small Grants fun...       7690.0   \n",
              "3  Funding under Sport England's Small Grants fun...       6118.0   \n",
              "4  Funding under Sport England's Small Grants fun...       1600.0   \n",
              "\n",
              "  recipient_charity_number           grant_award_date  \\\n",
              "0                      NaN  2009-09-14T00:00:00+00:00   \n",
              "1                  1086789  2009-09-14T00:00:00+00:00   \n",
              "2                      NaN  2009-09-14T00:00:00+00:00   \n",
              "3                      NaN  2009-09-14T00:00:00+00:00   \n",
              "4                      NaN  2009-09-14T00:00:00+00:00   \n",
              "\n",
              "                 grant_title recipient_zip       recipient_district  \\\n",
              "0        Members Boat Scheme      TW17 9LQ      Spelthorne District   \n",
              "1         Boyz Sport Moves         LA9 4HE  South Lakeland District   \n",
              "2  Growth, Sustain and Excel      MK45 4NF     Central Bedfordshire   \n",
              "3             New Lawn Mower      PO18 8BL      Chichester District   \n",
              "4     Purchase of Bowls Mats       TA8 2QU       Sedgemoor District   \n",
              "\n",
              "  funder_zip recipient_country recipient_company_number  \n",
              "0        NaN                GB                 05099435  \n",
              "1        NaN                GB                 03927101  \n",
              "2        NaN                GB                      NaN  \n",
              "3        NaN                GB                      NaN  \n",
              "4        NaN                GB                      NaN  "
            ]
          },
          "metadata": {
            "tags": []
          },
          "execution_count": 43
        }
      ]
    },
    {
      "metadata": {
        "id": "0qGVH-a61Amq",
        "colab_type": "code",
        "colab": {
          "base_uri": "https://localhost:8080/",
          "height": 34
        },
        "outputId": "08ab7ffc-ea05-40b3-e9f4-528d42e388eb"
      },
      "cell_type": "code",
      "source": [
        "strayer_df=df[['funder_name','recipient_name','grant_award','grant_type','grant_title','grant_description']]"
      ],
      "execution_count": 45,
      "outputs": [
        {
          "output_type": "execute_result",
          "data": {
            "text/plain": [
              "283077"
            ]
          },
          "metadata": {
            "tags": []
          },
          "execution_count": 45
        }
      ]
    },
    {
      "metadata": {
        "id": "TbJmOdNPdP5s",
        "colab_type": "text"
      },
      "cell_type": "markdown",
      "source": [
        ""
      ]
    }
  ]
}